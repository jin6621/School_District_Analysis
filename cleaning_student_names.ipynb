{
 "cells": [
  {
   "cell_type": "code",
   "execution_count": 1,
   "id": "a44c28d6-2527-4095-9ff6-801cf25e45aa",
   "metadata": {},
   "outputs": [],
   "source": [
    "# Import panda dependency\n",
    "import pandas as pd\n",
    "\n",
    "\n",
    "file_to_load = \"Resources/students_complete.csv\"\n",
    "\n",
    "student_data_df = pd.read_csv(file_to_load)"
   ]
  },
  {
   "cell_type": "code",
   "execution_count": 2,
   "id": "65e96a4b-46d4-4844-b65f-cf80d7e8d391",
   "metadata": {},
   "outputs": [
    {
     "data": {
      "text/html": [
       "<div>\n",
       "<style scoped>\n",
       "    .dataframe tbody tr th:only-of-type {\n",
       "        vertical-align: middle;\n",
       "    }\n",
       "\n",
       "    .dataframe tbody tr th {\n",
       "        vertical-align: top;\n",
       "    }\n",
       "\n",
       "    .dataframe thead th {\n",
       "        text-align: right;\n",
       "    }\n",
       "</style>\n",
       "<table border=\"1\" class=\"dataframe\">\n",
       "  <thead>\n",
       "    <tr style=\"text-align: right;\">\n",
       "      <th></th>\n",
       "      <th>Student ID</th>\n",
       "      <th>student_name</th>\n",
       "      <th>gender</th>\n",
       "      <th>grade</th>\n",
       "      <th>school_name</th>\n",
       "      <th>reading_score</th>\n",
       "      <th>math_score</th>\n",
       "    </tr>\n",
       "  </thead>\n",
       "  <tbody>\n",
       "    <tr>\n",
       "      <th>0</th>\n",
       "      <td>0</td>\n",
       "      <td>Paul Bradley</td>\n",
       "      <td>M</td>\n",
       "      <td>9th</td>\n",
       "      <td>Huang High School</td>\n",
       "      <td>66</td>\n",
       "      <td>79</td>\n",
       "    </tr>\n",
       "    <tr>\n",
       "      <th>1</th>\n",
       "      <td>1</td>\n",
       "      <td>Victor Smith</td>\n",
       "      <td>M</td>\n",
       "      <td>12th</td>\n",
       "      <td>Huang High School</td>\n",
       "      <td>94</td>\n",
       "      <td>61</td>\n",
       "    </tr>\n",
       "    <tr>\n",
       "      <th>2</th>\n",
       "      <td>2</td>\n",
       "      <td>Kevin Rodriguez</td>\n",
       "      <td>M</td>\n",
       "      <td>12th</td>\n",
       "      <td>Huang High School</td>\n",
       "      <td>90</td>\n",
       "      <td>60</td>\n",
       "    </tr>\n",
       "    <tr>\n",
       "      <th>3</th>\n",
       "      <td>3</td>\n",
       "      <td>Dr. Richard Scott</td>\n",
       "      <td>M</td>\n",
       "      <td>12th</td>\n",
       "      <td>Huang High School</td>\n",
       "      <td>67</td>\n",
       "      <td>58</td>\n",
       "    </tr>\n",
       "    <tr>\n",
       "      <th>4</th>\n",
       "      <td>4</td>\n",
       "      <td>Bonnie Ray</td>\n",
       "      <td>F</td>\n",
       "      <td>9th</td>\n",
       "      <td>Huang High School</td>\n",
       "      <td>97</td>\n",
       "      <td>84</td>\n",
       "    </tr>\n",
       "    <tr>\n",
       "      <th>...</th>\n",
       "      <td>...</td>\n",
       "      <td>...</td>\n",
       "      <td>...</td>\n",
       "      <td>...</td>\n",
       "      <td>...</td>\n",
       "      <td>...</td>\n",
       "      <td>...</td>\n",
       "    </tr>\n",
       "    <tr>\n",
       "      <th>39165</th>\n",
       "      <td>39165</td>\n",
       "      <td>Donna Howard</td>\n",
       "      <td>F</td>\n",
       "      <td>12th</td>\n",
       "      <td>Thomas High School</td>\n",
       "      <td>99</td>\n",
       "      <td>90</td>\n",
       "    </tr>\n",
       "    <tr>\n",
       "      <th>39166</th>\n",
       "      <td>39166</td>\n",
       "      <td>Dawn Bell</td>\n",
       "      <td>F</td>\n",
       "      <td>10th</td>\n",
       "      <td>Thomas High School</td>\n",
       "      <td>95</td>\n",
       "      <td>70</td>\n",
       "    </tr>\n",
       "    <tr>\n",
       "      <th>39167</th>\n",
       "      <td>39167</td>\n",
       "      <td>Rebecca Tanner</td>\n",
       "      <td>F</td>\n",
       "      <td>9th</td>\n",
       "      <td>Thomas High School</td>\n",
       "      <td>73</td>\n",
       "      <td>84</td>\n",
       "    </tr>\n",
       "    <tr>\n",
       "      <th>39168</th>\n",
       "      <td>39168</td>\n",
       "      <td>Desiree Kidd</td>\n",
       "      <td>F</td>\n",
       "      <td>10th</td>\n",
       "      <td>Thomas High School</td>\n",
       "      <td>99</td>\n",
       "      <td>90</td>\n",
       "    </tr>\n",
       "    <tr>\n",
       "      <th>39169</th>\n",
       "      <td>39169</td>\n",
       "      <td>Carolyn Jackson</td>\n",
       "      <td>F</td>\n",
       "      <td>11th</td>\n",
       "      <td>Thomas High School</td>\n",
       "      <td>95</td>\n",
       "      <td>75</td>\n",
       "    </tr>\n",
       "  </tbody>\n",
       "</table>\n",
       "<p>39170 rows × 7 columns</p>\n",
       "</div>"
      ],
      "text/plain": [
       "       Student ID       student_name gender grade         school_name  \\\n",
       "0               0       Paul Bradley      M   9th   Huang High School   \n",
       "1               1       Victor Smith      M  12th   Huang High School   \n",
       "2               2    Kevin Rodriguez      M  12th   Huang High School   \n",
       "3               3  Dr. Richard Scott      M  12th   Huang High School   \n",
       "4               4         Bonnie Ray      F   9th   Huang High School   \n",
       "...           ...                ...    ...   ...                 ...   \n",
       "39165       39165       Donna Howard      F  12th  Thomas High School   \n",
       "39166       39166          Dawn Bell      F  10th  Thomas High School   \n",
       "39167       39167     Rebecca Tanner      F   9th  Thomas High School   \n",
       "39168       39168       Desiree Kidd      F  10th  Thomas High School   \n",
       "39169       39169    Carolyn Jackson      F  11th  Thomas High School   \n",
       "\n",
       "       reading_score  math_score  \n",
       "0                 66          79  \n",
       "1                 94          61  \n",
       "2                 90          60  \n",
       "3                 67          58  \n",
       "4                 97          84  \n",
       "...              ...         ...  \n",
       "39165             99          90  \n",
       "39166             95          70  \n",
       "39167             73          84  \n",
       "39168             99          90  \n",
       "39169             95          75  \n",
       "\n",
       "[39170 rows x 7 columns]"
      ]
     },
     "execution_count": 2,
     "metadata": {},
     "output_type": "execute_result"
    }
   ],
   "source": [
    "student_data_df"
   ]
  },
  {
   "cell_type": "code",
   "execution_count": 3,
   "id": "d98ec7a1-8519-4b53-9a01-bdafb94534d3",
   "metadata": {},
   "outputs": [
    {
     "data": {
      "text/plain": [
       "['Paul Bradley',\n",
       " 'Victor Smith',\n",
       " 'Kevin Rodriguez',\n",
       " 'Dr. Richard Scott',\n",
       " 'Bonnie Ray',\n",
       " 'Bryan Miranda',\n",
       " 'Sheena Carter',\n",
       " 'Nicole Baker',\n",
       " 'Michael Roth',\n",
       " 'Matthew Greene',\n",
       " 'Andrew Alexander',\n",
       " 'Daniel Cooper',\n",
       " 'Brittney Walker',\n",
       " 'William Long',\n",
       " 'Tammy Hebert',\n",
       " 'Dr. Jordan Carson',\n",
       " 'Donald Zamora',\n",
       " 'Kimberly Santiago',\n",
       " 'Kevin Stevens',\n",
       " 'Brandi Lyons']"
      ]
     },
     "execution_count": 3,
     "metadata": {},
     "output_type": "execute_result"
    }
   ],
   "source": [
    "# Put the student names in a list.\n",
    "student_names = student_data_df[\"student_name\"].tolist()\n",
    "\n",
    "# Brief overview of the names of list.\n",
    "student_names[:20]"
   ]
  },
  {
   "cell_type": "code",
   "execution_count": 4,
   "id": "aa60966c-2547-4cd7-8297-e45ad688f7c2",
   "metadata": {},
   "outputs": [
    {
     "name": "stdout",
     "output_type": "stream",
     "text": [
      "Mrs. Linda Santiago\n"
     ]
    },
    {
     "data": {
      "text/plain": [
       "3"
      ]
     },
     "execution_count": 4,
     "metadata": {},
     "output_type": "execute_result"
    }
   ],
   "source": [
    "name = \"Mrs. Linda Santiago\"\n",
    "print(name)\n",
    "\n",
    "#name.split(\" \")\n",
    "len(name.split(\" \"))"
   ]
  },
  {
   "cell_type": "code",
   "execution_count": 5,
   "id": "4df393d7-a9dc-4abc-ba01-ce68efcaf3cc",
   "metadata": {},
   "outputs": [],
   "source": [
    "# Split the student name and determine the length of the split name.\n",
    "\n",
    "#for i in student_names:\n",
    "#    print(i.split(), len(i.split()))"
   ]
  },
  {
   "cell_type": "code",
   "execution_count": 6,
   "id": "c9bc30af-f9b4-4bdc-9915-9009c88d039f",
   "metadata": {},
   "outputs": [
    {
     "data": {
      "text/plain": [
       "1531"
      ]
     },
     "execution_count": 6,
     "metadata": {},
     "output_type": "execute_result"
    }
   ],
   "source": [
    "## Create a new list and use it for the for loop to iterate through the list.\n",
    "student_to_fix = []\n",
    "\n",
    "# Use an if statement to check the length of the name.\n",
    "# If the name is greater than or equal to \"3\", add the name to the list.\n",
    "for i in student_names:\n",
    "    if len(i.split(\" \")) >= 3:\n",
    "        student_to_fix.append(i)\n",
    "        \n",
    "# Get the length of the students whose names are greater than or equal to \"3\".\n",
    "len(student_to_fix)"
   ]
  },
  {
   "cell_type": "code",
   "execution_count": 7,
   "id": "cb18fa1f-d091-499d-98ef-9d12dbbaf228",
   "metadata": {},
   "outputs": [
    {
     "data": {
      "text/plain": [
       "['Dr. Richard Scott',\n",
       " 'Dr. Jordan Carson',\n",
       " 'Madeline Snyder MD',\n",
       " 'Mr. Dylan Taylor MD',\n",
       " 'Dr. Scott Gill',\n",
       " 'Miss Madison Everett',\n",
       " 'Virginia Ramirez MD',\n",
       " 'Joseph Morales III',\n",
       " 'Angela Perkins DVM',\n",
       " 'Heather Allen MD',\n",
       " 'Luke Lowery MD',\n",
       " 'Dr. Larry Hines',\n",
       " 'Emily Cardenas MD',\n",
       " 'Mrs. Elizabeth Espinoza DDS',\n",
       " 'Mrs. Lisa Becker',\n",
       " 'Mr. Travis Young',\n",
       " 'Paula Fernandez DVM',\n",
       " 'Dr. Xavier Bell II',\n",
       " 'Andrew Hanson MD',\n",
       " 'Mr. Roberto Wright MD']"
      ]
     },
     "execution_count": 7,
     "metadata": {},
     "output_type": "execute_result"
    }
   ],
   "source": [
    "student_to_fix[:20]"
   ]
  },
  {
   "cell_type": "code",
   "execution_count": 8,
   "id": "ce612942-b203-4756-b5db-d8083b9c2a0b",
   "metadata": {},
   "outputs": [
    {
     "data": {
      "text/plain": [
       "'Dr.'"
      ]
     },
     "execution_count": 8,
     "metadata": {},
     "output_type": "execute_result"
    }
   ],
   "source": [
    "student_to_fix[0].split()[0]"
   ]
  },
  {
   "cell_type": "code",
   "execution_count": 14,
   "id": "766fe2fc-373f-4fcd-b033-eaa0485e5a85",
   "metadata": {},
   "outputs": [],
   "source": [
    "# Add the prefixes less than or equal to 4 to a new list.\n",
    "\n",
    "prefixes = []\n",
    "for name in student_to_fix:\n",
    "    if len(name.split()[0]) <= 4:\n",
    "        prefixes.append(name.split()[0])"
   ]
  },
  {
   "cell_type": "code",
   "execution_count": 15,
   "id": "153e2e8d-27b4-4de1-b017-cee0050d221e",
   "metadata": {},
   "outputs": [],
   "source": [
    "# Add the suffixes less than or equal to 3 to a new list.\n",
    "\n",
    "suffixes = []\n",
    "for name in student_to_fix:\n",
    "    if len(name.split()[-1]) <= 3:\n",
    "        suffixes.append(name.split()[-1])"
   ]
  },
  {
   "cell_type": "code",
   "execution_count": 20,
   "id": "00074a8a-d9de-450f-badb-3b08862686cd",
   "metadata": {},
   "outputs": [
    {
     "data": {
      "text/plain": [
       "{'Adam',\n",
       " 'Amy',\n",
       " 'Anna',\n",
       " 'Anne',\n",
       " 'Carl',\n",
       " 'Chad',\n",
       " 'Cody',\n",
       " 'Cory',\n",
       " 'Dale',\n",
       " 'Dana',\n",
       " 'Dawn',\n",
       " 'Dr.',\n",
       " 'Emma',\n",
       " 'Eric',\n",
       " 'Erik',\n",
       " 'Erin',\n",
       " 'Gail',\n",
       " 'Gary',\n",
       " 'Gina',\n",
       " 'Greg',\n",
       " 'Ian',\n",
       " 'Jill',\n",
       " 'Jodi',\n",
       " 'Joe',\n",
       " 'John',\n",
       " 'Jon',\n",
       " 'Jose',\n",
       " 'Judy',\n",
       " 'Kara',\n",
       " 'Kari',\n",
       " 'Kim',\n",
       " 'Kyle',\n",
       " 'Leah',\n",
       " 'Lisa',\n",
       " 'Lori',\n",
       " 'Luke',\n",
       " 'Lynn',\n",
       " 'Marc',\n",
       " 'Mark',\n",
       " 'Mary',\n",
       " 'Mike',\n",
       " 'Miss',\n",
       " 'Mr.',\n",
       " 'Mrs.',\n",
       " 'Ms.',\n",
       " 'Noah',\n",
       " 'Omar',\n",
       " 'Paul',\n",
       " 'Ruth',\n",
       " 'Ryan',\n",
       " 'Sara',\n",
       " 'Sean',\n",
       " 'Seth',\n",
       " 'Tara',\n",
       " 'Tina',\n",
       " 'Todd',\n",
       " 'Toni',\n",
       " 'Tony',\n",
       " 'Troy'}"
      ]
     },
     "execution_count": 20,
     "metadata": {},
     "output_type": "execute_result"
    }
   ],
   "source": [
    "# Get the unique items in the \"prefixes\" list.\n",
    "set(prefixes)"
   ]
  },
  {
   "cell_type": "code",
   "execution_count": 21,
   "id": "7da2ed7e-eecb-4d1a-827a-ae26ac8a34e4",
   "metadata": {},
   "outputs": [
    {
     "data": {
      "text/plain": [
       "{'Cox',\n",
       " 'DDS',\n",
       " 'DVM',\n",
       " 'Day',\n",
       " 'II',\n",
       " 'III',\n",
       " 'IV',\n",
       " 'Jr.',\n",
       " 'Kim',\n",
       " 'Lee',\n",
       " 'Li',\n",
       " 'MD',\n",
       " 'PhD',\n",
       " 'Roy',\n",
       " 'V'}"
      ]
     },
     "execution_count": 21,
     "metadata": {},
     "output_type": "execute_result"
    }
   ],
   "source": [
    "# Get the unique items in the \"prefixes\" list.\n",
    "set(suffixes)"
   ]
  },
  {
   "cell_type": "code",
   "execution_count": 26,
   "id": "a9a570a3-e2d8-47c8-b58e-6876f9318692",
   "metadata": {},
   "outputs": [],
   "source": [
    "# Strip \"Mrs.\" from the student names\n",
    "\n",
    "#for name in student_to_fix:\n",
    "#    print(name.replace((\"Dr.\"), \"\"))"
   ]
  },
  {
   "cell_type": "code",
   "execution_count": 27,
   "id": "3fd317a9-5019-4203-9f36-4ecade2e0744",
   "metadata": {},
   "outputs": [],
   "source": [
    "# Add each prefix and suffix to remove to a list.\n",
    "prefixes_suffixes = [\"Dr. \", \"Mr. \",\"Ms. \", \"Mrs. \", \"Miss \", \" MD\", \" DDS\", \" DVM\", \" PhD\"]\n"
   ]
  },
  {
   "cell_type": "code",
   "execution_count": 39,
   "id": "0c805f4a-4161-43f9-816a-5a423cf5d524",
   "metadata": {},
   "outputs": [
    {
     "data": {
      "text/plain": [
       "Student ID        int64\n",
       "student_name     object\n",
       "gender           object\n",
       "grade            object\n",
       "school_name      object\n",
       "reading_score     int64\n",
       "math_score        int64\n",
       "dtype: object"
      ]
     },
     "execution_count": 39,
     "metadata": {},
     "output_type": "execute_result"
    }
   ],
   "source": [
    "student_data_df.dtypes"
   ]
  },
  {
   "cell_type": "code",
   "execution_count": 43,
   "id": "cee2ff9b-06fc-41ab-a548-8548b7fc1bfd",
   "metadata": {},
   "outputs": [
    {
     "name": "stderr",
     "output_type": "stream",
     "text": [
      "/Users/jinike/opt/anaconda3/lib/python3.7/site-packages/ipykernel_launcher.py:4: FutureWarning: The default value of regex will change from True to False in a future version.\n",
      "  after removing the cwd from sys.path.\n"
     ]
    },
    {
     "data": {
      "text/html": [
       "<div>\n",
       "<style scoped>\n",
       "    .dataframe tbody tr th:only-of-type {\n",
       "        vertical-align: middle;\n",
       "    }\n",
       "\n",
       "    .dataframe tbody tr th {\n",
       "        vertical-align: top;\n",
       "    }\n",
       "\n",
       "    .dataframe thead th {\n",
       "        text-align: right;\n",
       "    }\n",
       "</style>\n",
       "<table border=\"1\" class=\"dataframe\">\n",
       "  <thead>\n",
       "    <tr style=\"text-align: right;\">\n",
       "      <th></th>\n",
       "      <th>Student ID</th>\n",
       "      <th>student_name</th>\n",
       "      <th>gender</th>\n",
       "      <th>grade</th>\n",
       "      <th>school_name</th>\n",
       "      <th>reading_score</th>\n",
       "      <th>math_score</th>\n",
       "    </tr>\n",
       "  </thead>\n",
       "  <tbody>\n",
       "    <tr>\n",
       "      <th>0</th>\n",
       "      <td>0</td>\n",
       "      <td>Paul Bradley</td>\n",
       "      <td>M</td>\n",
       "      <td>9th</td>\n",
       "      <td>Huang High School</td>\n",
       "      <td>66</td>\n",
       "      <td>79</td>\n",
       "    </tr>\n",
       "    <tr>\n",
       "      <th>1</th>\n",
       "      <td>1</td>\n",
       "      <td>Victor Smith</td>\n",
       "      <td>M</td>\n",
       "      <td>12th</td>\n",
       "      <td>Huang High School</td>\n",
       "      <td>94</td>\n",
       "      <td>61</td>\n",
       "    </tr>\n",
       "    <tr>\n",
       "      <th>2</th>\n",
       "      <td>2</td>\n",
       "      <td>Kevin Rodriguez</td>\n",
       "      <td>M</td>\n",
       "      <td>12th</td>\n",
       "      <td>Huang High School</td>\n",
       "      <td>90</td>\n",
       "      <td>60</td>\n",
       "    </tr>\n",
       "    <tr>\n",
       "      <th>3</th>\n",
       "      <td>3</td>\n",
       "      <td>Richard Scott</td>\n",
       "      <td>M</td>\n",
       "      <td>12th</td>\n",
       "      <td>Huang High School</td>\n",
       "      <td>67</td>\n",
       "      <td>58</td>\n",
       "    </tr>\n",
       "    <tr>\n",
       "      <th>4</th>\n",
       "      <td>4</td>\n",
       "      <td>Bonnie Ray</td>\n",
       "      <td>F</td>\n",
       "      <td>9th</td>\n",
       "      <td>Huang High School</td>\n",
       "      <td>97</td>\n",
       "      <td>84</td>\n",
       "    </tr>\n",
       "    <tr>\n",
       "      <th>...</th>\n",
       "      <td>...</td>\n",
       "      <td>...</td>\n",
       "      <td>...</td>\n",
       "      <td>...</td>\n",
       "      <td>...</td>\n",
       "      <td>...</td>\n",
       "      <td>...</td>\n",
       "    </tr>\n",
       "    <tr>\n",
       "      <th>39165</th>\n",
       "      <td>39165</td>\n",
       "      <td>Donna Howard</td>\n",
       "      <td>F</td>\n",
       "      <td>12th</td>\n",
       "      <td>Thomas High School</td>\n",
       "      <td>99</td>\n",
       "      <td>90</td>\n",
       "    </tr>\n",
       "    <tr>\n",
       "      <th>39166</th>\n",
       "      <td>39166</td>\n",
       "      <td>Dawn Bell</td>\n",
       "      <td>F</td>\n",
       "      <td>10th</td>\n",
       "      <td>Thomas High School</td>\n",
       "      <td>95</td>\n",
       "      <td>70</td>\n",
       "    </tr>\n",
       "    <tr>\n",
       "      <th>39167</th>\n",
       "      <td>39167</td>\n",
       "      <td>Rebecca Tanner</td>\n",
       "      <td>F</td>\n",
       "      <td>9th</td>\n",
       "      <td>Thomas High School</td>\n",
       "      <td>73</td>\n",
       "      <td>84</td>\n",
       "    </tr>\n",
       "    <tr>\n",
       "      <th>39168</th>\n",
       "      <td>39168</td>\n",
       "      <td>Desiree Kidd</td>\n",
       "      <td>F</td>\n",
       "      <td>10th</td>\n",
       "      <td>Thomas High School</td>\n",
       "      <td>99</td>\n",
       "      <td>90</td>\n",
       "    </tr>\n",
       "    <tr>\n",
       "      <th>39169</th>\n",
       "      <td>39169</td>\n",
       "      <td>Carolyn Jackson</td>\n",
       "      <td>F</td>\n",
       "      <td>11th</td>\n",
       "      <td>Thomas High School</td>\n",
       "      <td>95</td>\n",
       "      <td>75</td>\n",
       "    </tr>\n",
       "  </tbody>\n",
       "</table>\n",
       "<p>39170 rows × 7 columns</p>\n",
       "</div>"
      ],
      "text/plain": [
       "       Student ID     student_name gender grade         school_name  \\\n",
       "0               0     Paul Bradley      M   9th   Huang High School   \n",
       "1               1     Victor Smith      M  12th   Huang High School   \n",
       "2               2  Kevin Rodriguez      M  12th   Huang High School   \n",
       "3               3    Richard Scott      M  12th   Huang High School   \n",
       "4               4       Bonnie Ray      F   9th   Huang High School   \n",
       "...           ...              ...    ...   ...                 ...   \n",
       "39165       39165     Donna Howard      F  12th  Thomas High School   \n",
       "39166       39166        Dawn Bell      F  10th  Thomas High School   \n",
       "39167       39167   Rebecca Tanner      F   9th  Thomas High School   \n",
       "39168       39168     Desiree Kidd      F  10th  Thomas High School   \n",
       "39169       39169  Carolyn Jackson      F  11th  Thomas High School   \n",
       "\n",
       "       reading_score  math_score  \n",
       "0                 66          79  \n",
       "1                 94          61  \n",
       "2                 90          60  \n",
       "3                 67          58  \n",
       "4                 97          84  \n",
       "...              ...         ...  \n",
       "39165             99          90  \n",
       "39166             95          70  \n",
       "39167             73          84  \n",
       "39168             99          90  \n",
       "39169             95          75  \n",
       "\n",
       "[39170 rows x 7 columns]"
      ]
     },
     "execution_count": 43,
     "metadata": {},
     "output_type": "execute_result"
    }
   ],
   "source": [
    "# Iterate through the \"prefixes_suffixes\" list and replace them with an empty space, \"\" when it appears in the student's name.\n",
    "\n",
    "for word in prefixes_suffixes:\n",
    "    student_data_df[\"student_name\"] = student_data_df[\"student_name\"].str.replace(word, \"\")\n",
    "    \n",
    "student_data_df"
   ]
  },
  {
   "cell_type": "code",
   "execution_count": 47,
   "id": "45df117c-9c0e-4656-93ae-a7312180465b",
   "metadata": {},
   "outputs": [],
   "source": [
    "# Put the cleaned students' names in another list.\n",
    "student_names = student_data_df[\"student_name\"].tolist()\n",
    "#student_names"
   ]
  },
  {
   "cell_type": "code",
   "execution_count": 48,
   "id": "e27317d3-3017-4dbb-b395-366f44e2b8f9",
   "metadata": {},
   "outputs": [
    {
     "data": {
      "text/plain": [
       "151"
      ]
     },
     "execution_count": 48,
     "metadata": {},
     "output_type": "execute_result"
    }
   ],
   "source": [
    "# Create a new list and use it for the for loop to iterate through the list.\n",
    "students_fixed = []\n",
    "\n",
    "# Use an if statement to check the length of the name.\n",
    "\n",
    "# If the name is greater than or equal to 3, add the name to the list.\n",
    "\n",
    "for name in student_names:\n",
    "    if len(name.split()) >= 3:\n",
    "        students_fixed.append(name)\n",
    "\n",
    "# Get the length of the students' names that are greater than or equal to 3.\n",
    "len(students_fixed)"
   ]
  },
  {
   "cell_type": "code",
   "execution_count": 49,
   "id": "7f522078-4e35-4d2c-a315-3d0ded3b05e1",
   "metadata": {},
   "outputs": [
    {
     "name": "stdout",
     "output_type": "stream",
     "text": [
      "['Joseph Morales III', 'Xavier Bell II', 'David Miller Jr.', 'Reginald Garcia IV', 'Kevin Brown IV', 'William Washington Jr.', 'Juan Bryant II', 'Kenneth Paul Jr.', 'Scott Rivers III', 'Mark Myers Jr.', 'Michael Norton Jr.', 'Sean Pena Jr.', 'Cody Mueller Jr.', 'Mathew White Jr.', 'Jason Daugherty Jr.', 'Leonard Webster II', 'Michael Stein Jr.', 'Ryan Phillips Jr.', 'Allen Snyder Jr.', 'Calvin Williams Jr.', 'Ronald Torres Jr.', 'Gabriel Smith III', 'Brian Pitts Jr.', 'Bruce Thompson II', 'Jeremy Sanders II', 'Austin Johnson II', 'Bryan Conway Jr.', 'Ronald Moore II', 'Robert Garrison IV', 'William Gonzalez Jr.', 'Brian Matthews Jr.', 'Eric Richards Jr.', 'Kenneth Munoz Jr.', 'Jon Delgado Jr.', 'Andrew English Jr.', 'Raymond Cox Jr.', 'Jeffrey Mcclain Jr.', 'Brian Poole V', 'Jeffrey Kim II', 'Matthew Alexander Jr.', 'Kevin Reynolds Jr.', 'Jacob Skinner Jr.', 'Dennis Gibson Jr.', 'Jimmy Shea Jr.', 'James Reed Jr.', 'Jeffery Baker Jr.', 'Derrick Hughes III', 'Joshua Rivera Jr.', 'Timothy Guzman Jr.', 'Lonnie Allen II', 'Tyrone Clark III', 'Jeffrey Nelson Jr.', 'Michael Mann II', 'David Johnson Jr.', 'Timothy Chavez Jr.', 'Brian Powell III', 'Lance Rangel Jr.', 'Noah Herrera Jr.', 'Eric Johnson Jr.', 'Victor Chavez II', 'Richard Ellis Jr.', 'Charles Goodman Jr.', 'Michael Singh Jr.', 'Jonathan Smith Jr.', 'Allen Morris Jr.', 'Aaron Solis Jr.', 'Daniel Mckinney Jr.', 'Christopher Petty Jr.', 'Michael Garcia Jr.', 'Charles Short II', 'Derek Barker Jr.', 'Zachary Garrett III', 'Thomas Harrison Jr.', 'Andrew Mitchell V', 'Aaron Davis Jr.', 'Brian Bailey Jr.', 'Jeremiah Morris IV', 'David Morales Jr.', 'Larry Chandler Jr.', 'James Clark II', 'Cameron Roman Jr.', 'Christopher Smith Jr.', 'Todd Grant Jr.', 'Kenneth Avila Jr.', 'Jason Lopez Jr.', 'Dwayne Mathis Jr.', 'Colton Collins II', 'Chris Palmer III', 'Tyler Randall Jr.', 'Joseph Morgan IV', 'Carlos Adkins Jr.', 'Mark Livingston Jr.', 'Michael Williams III', 'Eric Evans III', 'Christopher Thornton Jr.', 'Adam Hayes III', 'Michael Moore Jr.', 'Joseph Hudson II', 'William Brooks Jr.', 'Daniel Welch II', 'Roger Horton Jr.', 'Cory Marshall II', 'Joshua Thompson Jr.', 'Jon Flores II', 'Philip Jones Jr.', 'Greg Joyce Jr.', 'Thomas Frye Jr.', 'Joseph Marquez Jr.', 'Robert Smith Jr.', 'David Beck Jr.', 'Ryan Gomez II', 'Erik Smith Jr.', 'Omar Thompson Jr.', 'Leonard Roberts Jr.', 'Duane Li Jr.', 'Richard Lucero Jr.', 'Seth Medina Jr.', 'Anthony Carlson Jr.', 'Edward Dudley II', 'Matthew Lewis Jr.', 'Christopher Bowers Jr.', 'Timothy Hughes Jr.', 'Kevin Hoover IV', 'David Butler Jr.', 'Michael Wilson Jr.', 'George Hess Jr.', 'Kevin Briggs Jr.', 'Joseph Matthews III', 'Dylan Bailey Jr.', 'Anthony Woods Jr.', 'Michael Harris Jr.', 'Daniel Diaz Jr.', 'Taylor Thompson Jr.', 'Daniel Robinson Jr.', 'Ronald Phelps Jr.', 'Jonathan Reid II', 'Joshua Smith Jr.', 'Joseph Herrera III', 'Tony Robertson II', 'James Fowler III', 'William Wright II', 'Thomas Carrillo II', 'Matthew Bennett Jr.', 'Mark Lucas IV', 'Keith Newman Jr.', 'Matthew Mitchell III', 'Colin Schultz II', 'Terry Scott Jr.', 'Jason Patel Jr.', 'Steven Lewis Jr.', 'Lucas Williams Jr.']\n"
     ]
    }
   ],
   "source": [
    "print(students_fixed)"
   ]
  },
  {
   "cell_type": "code",
   "execution_count": null,
   "id": "6640bfc3-0f5f-4e83-885c-1d31af729fe7",
   "metadata": {},
   "outputs": [],
   "source": []
  }
 ],
 "metadata": {
  "kernelspec": {
   "display_name": "PythonData",
   "language": "python",
   "name": "pythondata"
  },
  "language_info": {
   "codemirror_mode": {
    "name": "ipython",
    "version": 3
   },
   "file_extension": ".py",
   "mimetype": "text/x-python",
   "name": "python",
   "nbconvert_exporter": "python",
   "pygments_lexer": "ipython3",
   "version": "3.7.6"
  }
 },
 "nbformat": 4,
 "nbformat_minor": 5
}
